{
  "nbformat": 4,
  "nbformat_minor": 0,
  "metadata": {
    "colab": {
      "provenance": []
    },
    "kernelspec": {
      "name": "python3",
      "display_name": "Python 3"
    },
    "language_info": {
      "name": "python"
    }
  },
  "cells": [
    {
      "cell_type": "markdown",
      "source": [
        "\n",
        "\n",
        "```\n",
        "# This i\n",
        "\n",
        "```\n",
        "# This is formatted as code\n",
        "```\n",
        "\n",
        "s formatted as code\n",
        "```\n",
        "\n"
      ],
      "metadata": {
        "id": "DFXMOXPUQR7Y"
      }
    },
    {
      "cell_type": "markdown",
      "source": [
        "#Module\n"
      ],
      "metadata": {
        "id": "8aLiif0SQVIV"
      }
    },
    {
      "cell_type": "code",
      "execution_count": null,
      "metadata": {
        "id": "4TqFYGsBP1a_"
      },
      "outputs": [],
      "source": [
        "#Question no 1\n",
        "Write a simple program in HTML  that displays the heading \"HTML defines the content and structure of\n",
        "your website\" on the web browser?\n",
        "\n",
        "\"\"\"this is answer\n",
        "<!DOCTYPE html>\n",
        "<html lang=\"en\">\n",
        "<head>\n",
        "    <meta charset=\"UTF-8\">\n",
        "    <meta name=\"viewport\" content=\"width=device-width, initial-scale=1.0\">\n",
        "    <title>HTML Content and Structure</title>\n",
        "</head>\n",
        "<body>\n",
        "    <h1>HTML defines the content and structure of your website</h1>\n",
        "</body>\n",
        "</html>\"\"\"\n",
        "#question no 3\n",
        " Write an HTML program that includes a heading, a paragraph of text, a horizontal line, and a line break.\n",
        "Arrange these elements to create a simple web page layout?\n",
        "\n",
        "\"\"\"this is answer\n",
        "\n",
        "<!DOCTYPE html>\n",
        "<html lang=\"en\">\n",
        "<head>\n",
        "    <meta charset=\"UTF-8\">\n",
        "    <meta name=\"viewport\" content=\"width=device-width, initial-scale=1.0\">\n",
        "    <title>Simple Web Page</title>\n",
        "</head>\n",
        "<body>\n",
        "    <!-- Heading -->\n",
        "    <h1>Welcome to My Web Page</h1>\n",
        "    <!-- Horizontal Line -->\n",
        "    <hr>\n",
        "    <!-- Paragraph -->\n",
        "    <p>This is a simple HTML page that demonstrates basic elements.</p>\n",
        "    <!-- Line Break -->\n",
        "    <p>This is the first line.<br>This is the second line after a line break.</p>\n",
        "\n",
        "</body>\n",
        "</html>   \"\"\"\n"
      ]
    },
    {
      "cell_type": "markdown",
      "source": [
        "Question 2. Explain the purpose of comments in HTML and provide an example of how to use comments in an HTML document?\n",
        "\n",
        "Answer- Comments in HTML are used to add notes or explanations within the code that are not displayed in the web browser.\n",
        "Anything between <!- - and --> is treated as a comment and will not be displayed in the browser.\n",
        "\n",
        " Question no 4.  Write a short note on Tag and element with an example?\n",
        "\n",
        "Answer- A tag is a keyword enclosed in angle brackets (< >) that defines how content should be structured or displayed in a web browser. Tags are the building blocks of an HTML document.\n",
        "\n",
        "An element consists of an opening tag, content (if any), and a closing tag (except for self-closing tags).\n",
        "\n",
        "Question no 5. What is the DOCTYPE Declaration in HTML?\n",
        "\n",
        "Answer-- The <!DOCTYPE> declaration in HTML specifies the version of HTML that the document is using. It helps the web browser render the page correctly by enabling standards mode instead of quirks mode."
      ],
      "metadata": {
        "id": "co4ANuVVSZ6w"
      }
    }
  ]
}